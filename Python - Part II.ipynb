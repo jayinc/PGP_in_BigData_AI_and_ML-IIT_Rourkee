{
 "cells": [
  {
   "cell_type": "markdown",
   "metadata": {},
   "source": [
    "# Regular Expressions"
   ]
  },
  {
   "cell_type": "code",
   "execution_count": 2,
   "metadata": {},
   "outputs": [],
   "source": [
    "import re"
   ]
  },
  {
   "cell_type": "code",
   "execution_count": 3,
   "metadata": {},
   "outputs": [
    {
     "name": "stdout",
     "output_type": "stream",
     "text": [
      "['t', 'h', 'i', 's', ' ', 'i', 's', ' ', 'a', ' ', 'l', 'i', 'n', 'e']\n"
     ]
    }
   ],
   "source": [
    "x = \"this is a line\"\n",
    "y = re.findall(\".\", x)\n",
    "print(y)"
   ]
  },
  {
   "cell_type": "code",
   "execution_count": 4,
   "metadata": {},
   "outputs": [
    {
     "name": "stdout",
     "output_type": "stream",
     "text": [
      "['eeeeee']\n"
     ]
    }
   ],
   "source": [
    "y = re.findall(\"e+\", \"sandeeeeeep\")\n",
    "print(y)"
   ]
  },
  {
   "cell_type": "code",
   "execution_count": 5,
   "metadata": {},
   "outputs": [
    {
     "name": "stdout",
     "output_type": "stream",
     "text": [
      "['']\n"
     ]
    }
   ],
   "source": [
    "y = re.findall(\"e*\", \"\")\n",
    "print(y)"
   ]
  },
  {
   "cell_type": "code",
   "execution_count": 6,
   "metadata": {},
   "outputs": [
    {
     "name": "stdout",
     "output_type": "stream",
     "text": [
      "[]\n"
     ]
    }
   ],
   "source": [
    "y = re.findall(\"e+\", \"\")\n",
    "print(y)"
   ]
  },
  {
   "cell_type": "code",
   "execution_count": 9,
   "metadata": {},
   "outputs": [
    {
     "name": "stdout",
     "output_type": "stream",
     "text": [
      "['this is anything']\n"
     ]
    }
   ],
   "source": [
    "y = re.findall(\".+\", \"this is anything\")\n",
    "print(y)"
   ]
  },
  {
   "cell_type": "code",
   "execution_count": 13,
   "metadata": {},
   "outputs": [
    {
     "name": "stdout",
     "output_type": "stream",
     "text": [
      "['']\n"
     ]
    }
   ],
   "source": [
    "y = re.findall(\".*\", \"\")\n",
    "print(y)"
   ]
  },
  {
   "cell_type": "code",
   "execution_count": 10,
   "metadata": {},
   "outputs": [
    {
     "name": "stdout",
     "output_type": "stream",
     "text": [
      "['this is something', '']\n"
     ]
    }
   ],
   "source": [
    "y = re.findall(\".*\", \"this is something\")\n",
    "print(y)"
   ]
  },
  {
   "cell_type": "code",
   "execution_count": 17,
   "metadata": {},
   "outputs": [
    {
     "name": "stdout",
     "output_type": "stream",
     "text": [
      "['this is something.......']\n"
     ]
    }
   ],
   "source": [
    "y = re.findall(\".+\", \"this is something.......\")\n",
    "print(y)"
   ]
  },
  {
   "cell_type": "code",
   "execution_count": 16,
   "metadata": {},
   "outputs": [
    {
     "name": "stdout",
     "output_type": "stream",
     "text": [
      "['.......']\n"
     ]
    }
   ],
   "source": [
    "y = re.findall(\"\\.+\", \"this is something.......\")\n",
    "print(y)"
   ]
  },
  {
   "cell_type": "code",
   "execution_count": 18,
   "metadata": {},
   "outputs": [
    {
     "name": "stdout",
     "output_type": "stream",
     "text": [
      "['this is great and this is']\n"
     ]
    }
   ],
   "source": [
    "y = re.findall(\"this.+is\", \"this is great and this is okay\")\n",
    "print(y)"
   ]
  },
  {
   "cell_type": "code",
   "execution_count": 20,
   "metadata": {},
   "outputs": [
    {
     "name": "stdout",
     "output_type": "stream",
     "text": [
      "['this is', 'this is']\n"
     ]
    }
   ],
   "source": [
    "y = re.findall(\"this.+?is\", \"this is great and this is okay\")\n",
    "print(y)"
   ]
  },
  {
   "cell_type": "code",
   "execution_count": 21,
   "metadata": {},
   "outputs": [
    {
     "name": "stdout",
     "output_type": "stream",
     "text": [
      "['this is', 'this is']\n"
     ]
    }
   ],
   "source": [
    "y = re.findall(\"this.*?is\", \"this is great and this is okay\")\n",
    "print(y)"
   ]
  },
  {
   "cell_type": "code",
   "execution_count": 23,
   "metadata": {},
   "outputs": [
    {
     "name": "stdout",
     "output_type": "stream",
     "text": [
      "['this', 'this', 'thus', 'ths']\n"
     ]
    }
   ],
   "source": [
    "y = re.findall(\"th.?s\", \"this is great and this is okay thus ths\")\n",
    "print(y)"
   ]
  },
  {
   "cell_type": "code",
   "execution_count": 25,
   "metadata": {},
   "outputs": [
    {
     "name": "stdout",
     "output_type": "stream",
     "text": [
      "['this', 'this', 'ths']\n"
     ]
    }
   ],
   "source": [
    "y = re.findall(\"thi?s\", \"this is great and this is okay thus ths thiis\")\n",
    "print(y)"
   ]
  },
  {
   "cell_type": "code",
   "execution_count": 29,
   "metadata": {},
   "outputs": [
    {
     "name": "stdout",
     "output_type": "stream",
     "text": [
      "['this', 'this', 'ths', 'thiis']\n"
     ]
    }
   ],
   "source": [
    "y = re.findall(\"thi*s\", \"this is great and this is okay thus ths thiis\")\n",
    "print(y)"
   ]
  },
  {
   "cell_type": "code",
   "execution_count": 52,
   "metadata": {},
   "outputs": [
    {
     "name": "stdout",
     "output_type": "stream",
     "text": [
      "['this', 'this', 'ths', 'thiis']\n"
     ]
    }
   ],
   "source": [
    "y = re.findall(\"thi{0,}s\", \"this is great and this is okay thus ths thiis\")\n",
    "print(y)"
   ]
  },
  {
   "cell_type": "code",
   "execution_count": 27,
   "metadata": {},
   "outputs": [
    {
     "name": "stdout",
     "output_type": "stream",
     "text": [
      "['this is great and this is okay thus ths thiis']\n"
     ]
    }
   ],
   "source": [
    "y = re.findall(\"th.*s\", \"this is great and this is okay thus ths thiis\")\n",
    "print(y)"
   ]
  },
  {
   "cell_type": "code",
   "execution_count": 28,
   "metadata": {},
   "outputs": [
    {
     "name": "stdout",
     "output_type": "stream",
     "text": [
      "['this', 'this', 'thus', 'ths', 'thiis']\n"
     ]
    }
   ],
   "source": [
    "y = re.findall(\"th.*?s\", \"this is great and this is okay thus ths thiis\")\n",
    "print(y)"
   ]
  },
  {
   "cell_type": "markdown",
   "metadata": {},
   "source": [
    "## This is what we have learnt so far: . + * ?"
   ]
  },
  {
   "cell_type": "code",
   "execution_count": 39,
   "metadata": {},
   "outputs": [
    {
     "name": "stdout",
     "output_type": "stream",
     "text": [
      "['this', 'this', 'thus', 'this']\n"
     ]
    }
   ],
   "source": [
    "y = re.findall(\"th[iu]s\", \"this is great and this is okay thus ths thiis that than thius thise\")\n",
    "print(y)"
   ]
  },
  {
   "cell_type": "code",
   "execution_count": 40,
   "metadata": {},
   "outputs": [
    {
     "name": "stdout",
     "output_type": "stream",
     "text": [
      "['this', 'this', 'thus', 'that', 'than']\n"
     ]
    }
   ],
   "source": [
    "y = re.findall(\"th[aiu][tsn]\", \"this is great and this is okay thus ths thiis that than thius thaiutsn\")\n",
    "print(y)"
   ]
  },
  {
   "cell_type": "code",
   "execution_count": 41,
   "metadata": {},
   "outputs": [
    {
     "name": "stdout",
     "output_type": "stream",
     "text": [
      "['thii', 'thiu', 'thai']\n"
     ]
    }
   ],
   "source": [
    "y = re.findall(\"th[aiu][aiu]\", \"this is great and this is okay thus ths thiis that than thius thaiutsn\")\n",
    "print(y)"
   ]
  },
  {
   "cell_type": "code",
   "execution_count": 43,
   "metadata": {},
   "outputs": [
    {
     "name": "stdout",
     "output_type": "stream",
     "text": [
      "['that']\n"
     ]
    }
   ],
   "source": [
    "y = re.findall(\"th[a-z]t\", \"this is great and this is okay thus ths thiis that than thius thaiutsn \")\n",
    "print(y)"
   ]
  },
  {
   "cell_type": "code",
   "execution_count": 46,
   "metadata": {},
   "outputs": [
    {
     "name": "stdout",
     "output_type": "stream",
     "text": [
      "['a1', 'a2', 'a3', 'a1', 'a1']\n"
     ]
    }
   ],
   "source": [
    "y = re.findall(\"a[0-9]\", \"thius thaiutsn a1 and a2 and a3 and az a10 aa1\")\n",
    "print(y)"
   ]
  },
  {
   "cell_type": "code",
   "execution_count": 47,
   "metadata": {},
   "outputs": [
    {
     "name": "stdout",
     "output_type": "stream",
     "text": [
      "['a222']\n"
     ]
    }
   ],
   "source": [
    "y = re.findall(\"a[0-9][0-9][0-9]\", \"thius thaiutsn a1 and a222 and a3 and az a10 aa1\")\n",
    "print(y)"
   ]
  },
  {
   "cell_type": "code",
   "execution_count": 48,
   "metadata": {},
   "outputs": [
    {
     "name": "stdout",
     "output_type": "stream",
     "text": [
      "['a222']\n"
     ]
    }
   ],
   "source": [
    "y = re.findall(\"a[0-9]{3}\", \"thius thaiutsn a1 and a222 and a3 and az a10 aa1\")\n",
    "print(y)"
   ]
  },
  {
   "cell_type": "code",
   "execution_count": 49,
   "metadata": {},
   "outputs": [
    {
     "name": "stdout",
     "output_type": "stream",
     "text": [
      "['a222', 'a10']\n"
     ]
    }
   ],
   "source": [
    "y = re.findall(\"a[0-9]{2,3}\", \"thius thaiutsn a1 and a222 and a3 and az a10 aa1\")\n",
    "print(y)"
   ]
  },
  {
   "cell_type": "code",
   "execution_count": 51,
   "metadata": {},
   "outputs": [
    {
     "name": "stdout",
     "output_type": "stream",
     "text": [
      "['a222', 'a10', 'a8921']\n"
     ]
    }
   ],
   "source": [
    "y = re.findall(\"a[0-9]{2,4}\", \"thius thaiutsn a1 and a222 and a3 and az a10 aa1 a8921\")\n",
    "print(y)"
   ]
  },
  {
   "cell_type": "code",
   "execution_count": 55,
   "metadata": {},
   "outputs": [
    {
     "name": "stdout",
     "output_type": "stream",
     "text": [
      "['aa1']\n"
     ]
    }
   ],
   "source": [
    "y = re.findall(\"a{2,4}[0-9]\", \"thius thaiutsn a1 and a222 and a3 and az a10 aa1 a8921\")\n",
    "print(y)"
   ]
  },
  {
   "cell_type": "code",
   "execution_count": 5,
   "metadata": {},
   "outputs": [
    {
     "name": "stdout",
     "output_type": "stream",
     "text": [
      "['2', '19', '42']\n"
     ]
    }
   ],
   "source": [
    "## Matching and Extracting Data\n",
    "\n",
    "import re\n",
    "x = 'My 2 favorite numbers are 19 and 42'\n",
    "y = re.findall('[0-9]+',x)\n",
    "print(y)\n"
   ]
  },
  {
   "cell_type": "code",
   "execution_count": 58,
   "metadata": {},
   "outputs": [
    {
     "name": "stdout",
     "output_type": "stream",
     "text": [
      "['12345', '5', '4']\n"
     ]
    }
   ],
   "source": [
    "y = re.findall(\"[0-9]+\", \"this is a valid number: 12345 and 5.4\")\n",
    "print(y)"
   ]
  },
  {
   "cell_type": "code",
   "execution_count": 66,
   "metadata": {},
   "outputs": [
    {
     "name": "stdout",
     "output_type": "stream",
     "text": [
      "['12345', '5', '4', '-10']\n"
     ]
    }
   ],
   "source": [
    "y = re.findall(\"-?[0-9]+\", \"this is a valid number: 12345 and 5.4, -10\")\n",
    "print(y)"
   ]
  },
  {
   "cell_type": "code",
   "execution_count": 63,
   "metadata": {},
   "outputs": [
    {
     "name": "stdout",
     "output_type": "stream",
     "text": [
      "['12345', '5.4', '0000000.000000', '3x5']\n"
     ]
    }
   ],
   "source": [
    "y = re.findall(\"[0-9]+.[0-9]+\", \"this is a valid number: 12345 and 5.4 , 0000000.000000 3x5\")\n",
    "print(y)"
   ]
  },
  {
   "cell_type": "code",
   "execution_count": 64,
   "metadata": {},
   "outputs": [
    {
     "name": "stdout",
     "output_type": "stream",
     "text": [
      "['5.4', '0000000.000000']\n"
     ]
    }
   ],
   "source": [
    "y = re.findall(\"[0-9]+\\.[0-9]+\", \"this is a valid number: 12345 and 5.4 , 0000000.000000 3x5\")\n",
    "print(y)"
   ]
  },
  {
   "cell_type": "code",
   "execution_count": 38,
   "metadata": {},
   "outputs": [
    {
     "data": {
      "text/plain": [
       "['aa', 'aaa', 'aaaaaa']"
      ]
     },
     "execution_count": 38,
     "metadata": {},
     "output_type": "execute_result"
    }
   ],
   "source": [
    "import re\n",
    "\n",
    "# . means any single char\n",
    "re.findall(\"tha.\", \"this is a aa and that is a aaa\")\n",
    "# re.findall(\"a. \", \"this is a aa and that is a aaa\")\n",
    "\n",
    "# # * - 0 or more number of prev character\n",
    "re.findall(\"thi*\", \"this is a aa and that is a aaa\")\n",
    "re.findall(\".*\", \"this is a aa and that is a aaa\")\n",
    "# # aa* -> a, aa, aaa, ...\n",
    "\n",
    "# # + means 1 or more of preceding\n",
    "#re.findall(\"aa+\", \"this is a aa and that is a aaa aaaaaa\")\n",
    "# re.findall(\"aa+\", \"this is a aa and that is a aaa\")\n",
    "\n",
    "# re.findall(\"thi?\", \"this is a            aa and that is a aaa\")\n"
   ]
  },
  {
   "cell_type": "code",
   "execution_count": 70,
   "metadata": {},
   "outputs": [
    {
     "data": {
      "text/plain": [
       "['xaaa aaa a']"
      ]
     },
     "execution_count": 70,
     "metadata": {},
     "output_type": "execute_result"
    }
   ],
   "source": [
    "# # escape\n",
    "# re.findall(\"t.+\\\\+\", \"this+ is a aa and that is a aaa\")\n",
    "\n",
    "# #Beging of line\n",
    "# re.findall(\"^t....\", \"this is a aa and that is a aaa\")\n",
    "\n",
    "# #End of line\n",
    "# re.findall(\"......a$\", \"this is a aa and that is a aaa\")\n",
    "\n",
    "# re.findall(\".+aaa.+\", \"this is a aaa and that is a aaa\")\n",
    "\n",
    "# #Space\n",
    "# re.findall(\"a\\s\", \"this is a            aa and that is a aaa\")\n",
    "\n",
    "# re.findall(\"a +\", \"this is a            aa and that is a aaa\")\n",
    "# re.findall(\"a\\S\", \"this is a            aa and that is a aaa\")\n",
    "\n",
    "# re.findall(\"th[ai][st]\", \"this is a            aa and that is a aaa thas thit\")\n",
    "# re.findall(\"[aeiou][aeiou]+\", \"this is a            aa and that is a aaa\")\n",
    "#re.findall(\"[aeiou][^aeiou\\s]\", \"this is a            aa and that is a aaa\")\n",
    "\n",
    "# re.findall(\"[a-s]\", \"this is a            aa and that is a aaa\")\n",
    "re.findall(\"[A-Z]\", \"this is a            Aaa and that is a aaa\")\n",
    "re.findall('[0-9]+', 'My 2 favorite numbers are 19 and 42')\n",
    "\n",
    "re.findall('[0-9]+\\\\.[0-9]+', 'My 2.x favorite numbers are 1912121.00995 and 42')\n",
    "# re.findall('[^0-9a-zA-Z.]', 'My 2.x favorite, numbers: are 1912121.00995 and 42')\n",
    "\n",
    "#e.g match﻿ where aaa is not the ths starting character\n",
    "re.findall(\"^[^a][^a][^a].+\", \"x yaaa aaa a\")\n",
    "re.findall(\"^[^aaa].+\", \"xaaa aaa a\")\n"
   ]
  },
  {
   "cell_type": "code",
   "execution_count": 12,
   "metadata": {},
   "outputs": [
    {
     "name": "stdout",
     "output_type": "stream",
     "text": [
      "['we']\n"
     ]
    }
   ],
   "source": [
    "y = re.findall(\"^[^aeiou][aeiou]\", \"we are looking for consonent followed by vowel.\")\n",
    "print(y)"
   ]
  },
  {
   "cell_type": "code",
   "execution_count": 13,
   "metadata": {},
   "outputs": [
    {
     "name": "stdout",
     "output_type": "stream",
     "text": [
      "['6']\n"
     ]
    }
   ],
   "source": [
    "y = re.findall(\"[0-9]$\", \"this is 123 and 456\")\n",
    "print(y)"
   ]
  },
  {
   "cell_type": "code",
   "execution_count": 6,
   "metadata": {},
   "outputs": [
    {
     "name": "stdout",
     "output_type": "stream",
     "text": [
      "Enter: \\\\\\\\\\\n"
     ]
    }
   ],
   "source": [
    "# what is the function of \\ , \\\\, \\\\\\ ?\n",
    "\n",
    "#Match with two slashes using regex\n",
    "s = input(\"Enter: \")\n",
    "x = re.findall(\"\\\\\\\\.+\", s)\n"
   ]
  },
  {
   "cell_type": "code",
   "execution_count": 103,
   "metadata": {},
   "outputs": [
    {
     "name": "stdout",
     "output_type": "stream",
     "text": [
      "this is a \\\\b \\s aa and that is a aaa.\n"
     ]
    },
    {
     "data": {
      "text/plain": [
       "['\\\\\\\\', '\\\\s']"
      ]
     },
     "execution_count": 103,
     "metadata": {},
     "output_type": "execute_result"
    }
   ],
   "source": [
    "s = \"this is a \\\\\\\\b \\s aa and that is a aaa.\"\n",
    "print(s)\n",
    "re.findall(\"\\\\\\\\.\", s)\n",
    "\n",
    "#\\\\\\\\. --> \\\\.\n",
    "# How to print only one occurrance of slash and then a character?\n",
    "#Return should be just \\s\n",
    "# Not \\\\b"
   ]
  },
  {
   "cell_type": "code",
   "execution_count": 95,
   "metadata": {},
   "outputs": [
    {
     "name": "stdout",
     "output_type": "stream",
     "text": [
      "['\\\\s \\\\b']\n"
     ]
    },
    {
     "data": {
      "text/plain": [
       "5"
      ]
     },
     "execution_count": 95,
     "metadata": {},
     "output_type": "execute_result"
    }
   ],
   "source": [
    "print(x)\n",
    "len(x[0])\n"
   ]
  },
  {
   "cell_type": "code",
   "execution_count": null,
   "metadata": {
    "collapsed": true
   },
   "outputs": [],
   "source": [
    "## Using re.search() like find()\n",
    "\n",
    "import re\n",
    "\n",
    "hand = open('mbox-short.txt')\n",
    "for line in hand:\n",
    "    line = line.rstrip()\n",
    "    if re.search('From:', line) :\n",
    "        print(line)\n"
   ]
  },
  {
   "cell_type": "code",
   "execution_count": 7,
   "metadata": {
    "collapsed": true
   },
   "outputs": [],
   "source": [
    "## Using re.search() like startswith()\n",
    "\n",
    "import re\n",
    "\n",
    "hand = open('mbox-short.txt')\n",
    "for line in hand:\n",
    "    line = line.rstrip()\n",
    "    if re.search('^From:', line) :\n",
    "        print(line)\n"
   ]
  },
  {
   "cell_type": "code",
   "execution_count": 72,
   "metadata": {},
   "outputs": [
    {
     "name": "stdout",
     "output_type": "stream",
     "text": [
      "['2', '19', '42']\n"
     ]
    }
   ],
   "source": [
    "## Matching and Extracting Data\n",
    "\n",
    "import re\n",
    "x = 'My 2 favorite numbers are 19 and 42'\n",
    "y = re.findall('[0-9]+',x)\n",
    "print(y)\n"
   ]
  },
  {
   "cell_type": "code",
   "execution_count": null,
   "metadata": {
    "collapsed": true
   },
   "outputs": [],
   "source": [
    "## Matching and Extracting Data\n",
    "\n",
    "import re\n",
    "x = 'My 2 favorite numbers are 19 and 42'\n",
    "y = re.findall('[0-9]+',x)\n",
    "print(y)\n",
    "y = re.findall('[AEIOU]+',x)\n",
    "print(y)"
   ]
  },
  {
   "cell_type": "code",
   "execution_count": 11,
   "metadata": {},
   "outputs": [
    {
     "name": "stdout",
     "output_type": "stream",
     "text": [
      "['we', 're', 'lo', 'ki', 'fo', 'co', 'so', 'ne', 'fo', 'lo', 'we', 'vo', 'we']\n"
     ]
    }
   ],
   "source": [
    "y = re.findall(\"[^aeiou ][aeiou]\", \"we are looking for consonent followed by vowel.\")\n",
    "print(y)"
   ]
  },
  {
   "cell_type": "code",
   "execution_count": 16,
   "metadata": {},
   "outputs": [
    {
     "name": "stdout",
     "output_type": "stream",
     "text": [
      "['e a', 'e l', 'g f', 'r c', 't f', 'd b', 'y v']\n"
     ]
    }
   ],
   "source": [
    "y = re.findall(\"\\S\\s\\S\", \"we are looking for consonent followed by vowel.\")\n",
    "print(y)"
   ]
  },
  {
   "cell_type": "code",
   "execution_count": 10,
   "metadata": {
    "scrolled": true
   },
   "outputs": [
    {
     "name": "stdout",
     "output_type": "stream",
     "text": [
      "['']\n"
     ]
    }
   ],
   "source": [
    "y = re.findall(\"[ADM]?\", \"\")\n",
    "print(y)"
   ]
  },
  {
   "cell_type": "code",
   "execution_count": 17,
   "metadata": {},
   "outputs": [
    {
     "name": "stdout",
     "output_type": "stream",
     "text": [
      "['From: Using the :']\n"
     ]
    }
   ],
   "source": [
    "## Warning: Greedy Matching\n",
    "\n",
    "import re\n",
    "x = 'From: Using the : character'\n",
    "y = re.findall('^F.+:', x)\n",
    "#y = re.findall('^F[^ ]+:', x)\n",
    "print(y)\n"
   ]
  },
  {
   "cell_type": "code",
   "execution_count": null,
   "metadata": {
    "collapsed": true
   },
   "outputs": [],
   "source": [
    "#Email Regular Expression\n"
   ]
  },
  {
   "cell_type": "code",
   "execution_count": 106,
   "metadata": {},
   "outputs": [
    {
     "name": "stdout",
     "output_type": "stream",
     "text": [
      "['From:']\n"
     ]
    }
   ],
   "source": [
    "## Non-Greedy Matching\n",
    "import re\n",
    "x = 'From: Using the : character'\n",
    "y = re.findall('^F.+?:', x)\n",
    "print(y)"
   ]
  },
  {
   "cell_type": "code",
   "execution_count": 20,
   "metadata": {},
   "outputs": [
    {
     "name": "stdout",
     "output_type": "stream",
     "text": [
      "['reachus@cloudxlab.com']\n"
     ]
    }
   ],
   "source": [
    "y = re.findall(\"[a-z]+@[a-z]+\\.com\", \n",
    "               \"my email address is reachus@cloudxlab.com and not reachus@cloudxlab, reachus@@cloudxlab abc@abc.org\")\n",
    "print(y)"
   ]
  },
  {
   "cell_type": "code",
   "execution_count": 23,
   "metadata": {},
   "outputs": [
    {
     "name": "stdout",
     "output_type": "stream",
     "text": [
      "['reachus@cloudxlab_com']\n"
     ]
    }
   ],
   "source": [
    "y = re.findall(\"[a-z]+@[a-z]+.com\", \n",
    "               \"my email address is reachus@cloudxlab_com\")\n",
    "print(y)"
   ]
  },
  {
   "cell_type": "code",
   "execution_count": 27,
   "metadata": {},
   "outputs": [
    {
     "data": {
      "text/plain": [
       "['uct@.ac.za ']"
      ]
     },
     "execution_count": 27,
     "metadata": {},
     "output_type": "execute_result"
    }
   ],
   "source": [
    "import re\n",
    "## Fine-Tuning String Extraction\n",
    "x = 'From stephen.marquard@uct.ac.za Sat Jan  5 09:14:16 2008'\n",
    "# re.findall('\\S+@\\S+',x)\n",
    "\n",
    "# Wrong: Can you fix it?\n",
    "# Write a valid email matcher\n",
    "y = 'From stephen.marquard@uct Sat Jan  5 09:14:16 2008'\n",
    "x = 'From stephen.marquard@uct.ac.za Sat Jan  5 09:14:16 2008'\n",
    "x1 = 'From stephen.marquard@uct@.ac.za Sat Jan  5 09:14:16 2008'\n",
    "re.findall('[^\\s@]+@[^\\s@]+\\.[^\\s@]+\\s*', x1)\n"
   ]
  },
  {
   "cell_type": "code",
   "execution_count": 40,
   "metadata": {},
   "outputs": [
    {
     "name": "stdout",
     "output_type": "stream",
     "text": [
      "X-DSPAM-Confidence: 0.8475\n",
      "X-DSPAM-Confidence: 0.6178\n",
      "X-DSPAM-Confidence: 0.6961\n",
      "X-DSPAM-Confidence: 0.7565\n",
      "X-DSPAM-Confidence: 0.7626\n",
      "X-DSPAM-Confidence: 0.7556\n",
      "X-DSPAM-Confidence: 0.7002\n",
      "X-DSPAM-Confidence: 0.7615\n",
      "X-DSPAM-Confidence: 0.7601\n",
      "X-DSPAM-Confidence: 0.7605\n",
      "X-DSPAM-Confidence: 0.6959\n",
      "X-DSPAM-Confidence: 0.7606\n",
      "X-DSPAM-Confidence: 0.7559\n",
      "X-DSPAM-Confidence: 0.7605\n",
      "X-DSPAM-Confidence: 0.6932\n",
      "X-DSPAM-Confidence: 0.7558\n",
      "X-DSPAM-Confidence: 0.6526\n",
      "X-DSPAM-Confidence: 0.6948\n",
      "X-DSPAM-Confidence: 0.6528\n",
      "X-DSPAM-Confidence: 0.7002\n",
      "X-DSPAM-Confidence: 0.7554\n",
      "X-DSPAM-Confidence: 0.6956\n",
      "X-DSPAM-Confidence: 0.6959\n",
      "X-DSPAM-Confidence: 0.7556\n",
      "X-DSPAM-Confidence: 0.9846\n",
      "X-DSPAM-Confidence: 0.8509\n",
      "X-DSPAM-Confidence: 0.9907\n",
      "Maximum: 0.9907\n",
      "AVG: 0.7507185185185187\n"
     ]
    }
   ],
   "source": [
    "import re\n",
    "hand = open('mbox-short.txt')\n",
    "numlist = list()\n",
    "for line in hand:\n",
    "    line = line.rstrip()\n",
    "    stuff = re.findall('^X-DSPAM-Confidence: ([0-9.]+)', line)\n",
    "    if len(stuff) != 1 :  continue\n",
    "    print(line)\n",
    "    num = float(stuff[0])\n",
    "    numlist.append(num)\n",
    "print('Maximum:', max(numlist))\n",
    "print('AVG:', sum(numlist)/len(numlist))\n"
   ]
  },
  {
   "cell_type": "code",
   "execution_count": 30,
   "metadata": {},
   "outputs": [
    {
     "data": {
      "text/plain": [
       "['uct.ac.za']"
      ]
     },
     "execution_count": 30,
     "metadata": {},
     "output_type": "execute_result"
    }
   ],
   "source": [
    "import re\n",
    "## Fine-Tuning String Extraction\n",
    "x = 'From stephen.marquard@uct.ac.za Sat Jan  5 09:14:16 2008'\n",
    "re.findall(\"@(\\S+)\", x)\n"
   ]
  },
  {
   "cell_type": "code",
   "execution_count": 33,
   "metadata": {},
   "outputs": [
    {
     "data": {
      "text/plain": [
       "['1111222233334444', '1111-2222-3333-4444', '1111 2222 3333 4444']"
      ]
     },
     "execution_count": 33,
     "metadata": {},
     "output_type": "execute_result"
    }
   ],
   "source": [
    "re.findall(\"[0-9]{4}[ \\-]?[0-9]{4}[ \\-]?[0-9]{4}[ \\-]?[0-9]{4}\", \"1111222233334444, 1111-2222-3333-4444, 1111 2222 3333 4444\")"
   ]
  },
  {
   "cell_type": "code",
   "execution_count": 117,
   "metadata": {
    "scrolled": false
   },
   "outputs": [
    {
     "name": "stdout",
     "output_type": "stream",
     "text": [
      "['abc.abc@my.esps.google.com']\n"
     ]
    }
   ],
   "source": [
    "print (re.findall('\\S+@\\S+','From abc.abc@my.esps.google.com Sat Jan'))"
   ]
  },
  {
   "cell_type": "code",
   "execution_count": 26,
   "metadata": {},
   "outputs": [
    {
     "name": "stdout",
     "output_type": "stream",
     "text": [
      "['1111-2222-3333-4444', '1111222233334444']\n"
     ]
    }
   ],
   "source": [
    "print (re.findall('[0-9]{4}-?[0-9]{4}-?[0-9]{4}-?[0-9]{4}','1111-2222-3333 1111-2222-3333-4444 1111222233334444, 1234, 1111 2222 3333 4444'))"
   ]
  },
  {
   "cell_type": "code",
   "execution_count": null,
   "metadata": {
    "collapsed": true
   },
   "outputs": [],
   "source": [
    "## Fine-Tuning String Extraction\n",
    "\n",
    "y = re.findall('\\S+@\\S+',x)\n",
    "print(y)\n",
    "y = re.findall('^From:.*? (\\S+@\\S+)',x)\n",
    "print(y)\n"
   ]
  },
  {
   "cell_type": "code",
   "execution_count": null,
   "metadata": {
    "collapsed": true
   },
   "outputs": [],
   "source": [
    "data = 'From stephen.marquard@uct.ac.za Sat Jan  5 09:14:16 2008'\n",
    "atpos = data.find('@')\n",
    "print(atpos)\n",
    "sppos = data.find(' ',atpos)\n",
    "print(sppos)\n",
    "host = data[atpos+1 : sppos]\n",
    "print(host)\n"
   ]
  },
  {
   "cell_type": "code",
   "execution_count": null,
   "metadata": {
    "collapsed": true
   },
   "outputs": [],
   "source": [
    "## The Double Split Pattern\n",
    "line = 'From stephen.marquard@uct.ac.za Sat Jan  5 09:14:16 2008'\n",
    "words = line.split()\n",
    "email = words[1]\n",
    "pieces = email.split('@')\n",
    "print(pieces[1])\n"
   ]
  },
  {
   "cell_type": "code",
   "execution_count": null,
   "metadata": {
    "collapsed": true
   },
   "outputs": [],
   "source": [
    "## The Regex Version\n",
    "\n",
    "import re \n",
    "lin = 'From stephen.marquard@uct.ac.za Sat Jan  5 09:14:16 2008'\n",
    "y = re.findall('@([^ ]*)',lin)\n",
    "print(y)\n",
    "['uct.ac.za']\n"
   ]
  },
  {
   "cell_type": "code",
   "execution_count": 14,
   "metadata": {},
   "outputs": [
    {
     "name": "stdout",
     "output_type": "stream",
     "text": [
      "['uct.ac.za']\n"
     ]
    },
    {
     "data": {
      "text/plain": [
       "['uct.ac.za']"
      ]
     },
     "execution_count": 14,
     "metadata": {},
     "output_type": "execute_result"
    }
   ],
   "source": [
    "## Even Cooler Regex Version\n",
    "import re \n",
    "lin = 'From stephen.marquard@uct.ac.za Sat Jan  5 09:14:16 2008'\n",
    "y = re.findall('^From .*@([^ ]*)',lin)\n",
    "print(y)\n",
    "['uct.ac.za']\n"
   ]
  },
  {
   "cell_type": "code",
   "execution_count": null,
   "metadata": {
    "collapsed": true
   },
   "outputs": [],
   "source": [
    "## Spam Confidence\n",
    "\n",
    "import re\n",
    "hand = open('mbox-short.txt')\n",
    "numlist = list()\n",
    "for line in hand:\n",
    "    line = line.rstrip()\n",
    "    stuff = re.findall('^X-DSPAM-Confidence: ([0-9.]+)', line)\n",
    "    if len(stuff) != 1 :  continue\n",
    "    num = float(stuff[0])\n",
    "    numlist.append(num)\n",
    "print('Maximum:', max(numlist))\n"
   ]
  },
  {
   "cell_type": "code",
   "execution_count": null,
   "metadata": {
    "collapsed": true
   },
   "outputs": [],
   "source": [
    "## Escape Character\n",
    "\n",
    "import re\n",
    "x = 'We just received $10.00 for cookies.'\n",
    "y = re.findall('\\$[0-9.]+',x)\n",
    "print(y)\n"
   ]
  },
  {
   "cell_type": "markdown",
   "metadata": {},
   "source": [
    "## An HTTP Request in Python\n"
   ]
  },
  {
   "cell_type": "code",
   "execution_count": 41,
   "metadata": {
    "scrolled": true
   },
   "outputs": [
    {
     "name": "stdout",
     "output_type": "stream",
     "text": [
      "b'HTTP/1.1 200 OK\\r\\nContent-Type: text/plain\\r\\nContent-Length: 167\\r\\nConnection: close\\r\\nDate: Sat, 03 Nov 2018 04:30:38 GMT\\r\\nServer: Apache\\r\\nLast-Modified: Fri, 04 Dec 2015 19:05:04 GMT\\r\\nETag: \"a7-526172f58b800\"\\r\\nAccept-Ranges: bytes\\r\\nCache-Control: max-age=604800, public\\r\\nAccess-Control-Allow-Origin: *\\r\\nAccess-Control-Allow-Headers: origin, x-requested-with, content-type\\r\\nAccess-Control-Allow-Methods: GET\\r\\n\\r\\nBut soft what light through yonder window breaks\\nIt is the east and Juliet is the sun\\nArise fair sun and'\n",
      "b' kill the envious moon\\nWho is already sick and pale with grief\\n'\n"
     ]
    }
   ],
   "source": [
    "import socket\n",
    "\n",
    "mysock = socket.socket(socket.AF_INET, socket.SOCK_STREAM)                 \n",
    "\n",
    "mysock.connect((\"www.py4inf.com\" , 80))\n",
    "mysock.send(b'GET /code/romeo.txt HTTP/1.0\\r\\nHost: www.py4inf.com\\r\\n\\r\\n')\n",
    "\n",
    "while True:\n",
    "    data = mysock.recv(512)\n",
    "    if ( len(data) < 1 ) :\n",
    "        break\n",
    "    print(data)\n",
    "mysock.close()"
   ]
  },
  {
   "cell_type": "code",
   "execution_count": 1,
   "metadata": {
    "scrolled": true
   },
   "outputs": [
    {
     "name": "stdout",
     "output_type": "stream",
     "text": [
      "b'But soft what light through yonder window breaks'\n",
      "b'It is the east and Juliet is the sun'\n",
      "b'Arise fair sun and kill the envious moon'\n",
      "b'Who is already sick and pale with grief'\n"
     ]
    }
   ],
   "source": [
    "## Using urllib in Python\n",
    "\n",
    "# from urllib import *\n",
    "# import urllib\n",
    "import urllib.request\n",
    "\n",
    "\n",
    "fhand = urllib.request.urlopen('http://www.py4inf.com/code/romeo.txt')\n",
    "\n",
    "for line in fhand:\n",
    "    print(line.strip())\n"
   ]
  },
  {
   "cell_type": "code",
   "execution_count": 2,
   "metadata": {},
   "outputs": [
    {
     "name": "stdout",
     "output_type": "stream",
     "text": [
      "{b'But': 1, b'soft': 1, b'what': 1, b'light': 1, b'through': 1, b'yonder': 1, b'window': 1, b'breaks': 1, b'It': 1, b'is': 3, b'the': 3, b'east': 1, b'and': 3, b'Juliet': 1, b'sun': 2, b'Arise': 1, b'fair': 1, b'kill': 1, b'envious': 1, b'moon': 1, b'Who': 1, b'already': 1, b'sick': 1, b'pale': 1, b'with': 1, b'grief': 1}\n"
     ]
    }
   ],
   "source": [
    "# And like a file\n",
    "import urllib.request\n",
    "fhand = urllib.request.urlopen('http://www.py4inf.com/code/romeo.txt')\n",
    "\n",
    "counts = dict()\n",
    "for line in fhand:\n",
    "    words = line.split()\n",
    "    for word in words:\n",
    "        counts[word] = counts.get(word,0) + 1\n",
    "print(counts)\n"
   ]
  },
  {
   "cell_type": "code",
   "execution_count": 4,
   "metadata": {},
   "outputs": [
    {
     "name": "stdout",
     "output_type": "stream",
     "text": [
      "b'<h1>The First Page</h1>'\n",
      "b'<p>'\n",
      "b'If you like, you can switch to the'\n",
      "b'<a href=\"http://www.dr-chuck.com/page2.htm\">'\n",
      "b'Second Page</a>.'\n",
      "b'</p>'\n"
     ]
    }
   ],
   "source": [
    "## Reading Web Pages\n",
    "\n",
    "import urllib.request\n",
    "fhand = urllib.request.urlopen('http://www.dr-chuck.com/page1.htm')\n",
    "for line in fhand:\n",
    "    print(line.strip())\n"
   ]
  },
  {
   "cell_type": "markdown",
   "metadata": {},
   "source": [
    "## The Easy Way - Beautiful Soup"
   ]
  },
  {
   "cell_type": "code",
   "execution_count": 39,
   "metadata": {},
   "outputs": [
    {
     "name": "stdout",
     "output_type": "stream",
     "text": [
      "Requirement already satisfied: beautifulsoup4 in /usr/local/anaconda/envs/py36/lib/python3.6/site-packages\r\n"
     ]
    }
   ],
   "source": [
    "!pip install beautifulsoup4 # Already installed on CloudxLab"
   ]
  },
  {
   "cell_type": "code",
   "execution_count": 1,
   "metadata": {},
   "outputs": [
    {
     "name": "stdout",
     "output_type": "stream",
     "text": [
      "Enter - http://en.wikipedia.org/wiki/Web_scraping\n"
     ]
    },
    {
     "name": "stderr",
     "output_type": "stream",
     "text": [
      "/usr/local/anaconda/envs/py36/lib/python3.6/site-packages/bs4/__init__.py:181: UserWarning: No parser was explicitly specified, so I'm using the best available HTML parser for this system (\"lxml\"). This usually isn't a problem, but if you run this code on another system, or in a different virtual environment, it may use a different parser and behave differently.\n",
      "\n",
      "The code that caused this warning is on line 193 of the file /usr/local/anaconda/envs/py36/lib/python3.6/runpy.py. To get rid of this warning, change code that looks like this:\n",
      "\n",
      " BeautifulSoup(YOUR_MARKUP})\n",
      "\n",
      "to this:\n",
      "\n",
      " BeautifulSoup(YOUR_MARKUP, \"lxml\")\n",
      "\n",
      "  markup_type=markup_type))\n"
     ]
    }
   ],
   "source": [
    "# Enter http://en.wikipedia.org/wiki/Web_scraping\n",
    "from urllib import *\n",
    "from bs4 import BeautifulSoup\n",
    "\n",
    "url = input('Enter - ')\n",
    "\n",
    "html = request.urlopen(url).read()\n",
    "soup = BeautifulSoup(html)\n",
    "\n",
    "# # Retrieve a list of the anchor tags\n",
    "# # Each tag is like a dictionary of HTML attributes\n",
    "\n",
    "# tags = soup('a')\n",
    "\n",
    "# for tag in tags:\n",
    "#    print(tag.get('href', None))"
   ]
  },
  {
   "cell_type": "code",
   "execution_count": 2,
   "metadata": {
    "scrolled": false
   },
   "outputs": [
    {
     "name": "stdout",
     "output_type": "stream",
     "text": [
      "None\n",
      "#mw-head\n",
      "#p-search\n",
      "/wiki/File:Question_book-new.svg\n",
      "/wiki/Wikipedia:Verifiability\n",
      "//en.wikipedia.org/w/index.php?title=Web_scraping&action=edit\n",
      "/wiki/Help:Introduction_to_referencing_with_Wiki_Markup/1\n",
      "/wiki/Help:Maintenance_template_removal\n",
      "/wiki/Data_scraping\n",
      "/wiki/Data_scraping\n",
      "/wiki/Data_extraction\n",
      "/wiki/Website\n",
      "#cite_note-Boeing2016JPER-1\n",
      "/wiki/Hypertext_Transfer_Protocol\n",
      "/wiki/Internet_bot\n",
      "/wiki/Web_crawler\n",
      "/wiki/Data_retrieval\n",
      "/wiki/Data_analysis\n",
      "#cite_note-Boeing2016JPER-1\n",
      "#cite_note-2\n",
      "/wiki/Contact_scraping\n",
      "/wiki/Web_indexing\n",
      "/wiki/Web_mining\n",
      "/wiki/Data_mining\n",
      "/wiki/Comparison_shopping_website\n",
      "/wiki/Change_detection_and_notification\n",
      "/wiki/Web_mashup\n",
      "/wiki/Web_page\n",
      "/wiki/HTML\n",
      "/wiki/XHTML\n",
      "/wiki/End-user_(computer_science)\n",
      "/wiki/API\n",
      "/wiki/Amazon_AWS\n",
      "/wiki/Google\n",
      "/wiki/JSON\n",
      "/wiki/Document_Object_Model\n",
      "/wiki/Computer_vision\n",
      "/wiki/Natural_language_processing\n",
      "#Techniques\n",
      "#Human_copy-and-paste\n",
      "#Text_pattern_matching\n",
      "#HTTP_programming\n",
      "#HTML_parsing\n",
      "#DOM_parsing\n",
      "#Vertical_aggregation\n",
      "#Semantic_annotation_recognizing\n",
      "#Computer_vision_web-page_analysis\n",
      "#Software\n",
      "#Example_tools\n",
      "#Javascript_tools\n",
      "#SaaS_version\n",
      "#Web_crawling_frameworks\n",
      "#Legal_issues\n",
      "#United_States\n",
      "#Outside_the_United_States\n",
      "#Methods_to_prevent_web_scraping\n",
      "#See_also\n",
      "#References\n",
      "/w/index.php?title=Web_scraping&action=edit&section=1\n",
      "/wiki/Semantic_web\n",
      "/w/index.php?title=Web_scraping&action=edit&section=2\n",
      "/w/index.php?title=Web_scraping&action=edit&section=3\n",
      "/wiki/Grep\n",
      "/wiki/Regular_expression\n",
      "/wiki/Perl\n",
      "/wiki/Python_(programming_language)\n",
      "/w/index.php?title=Web_scraping&action=edit&section=4\n",
      "/wiki/Static_web_page\n",
      "/wiki/Dynamic_web_page\n",
      "/wiki/Socket_programming\n",
      "/w/index.php?title=Web_scraping&action=edit&section=5\n",
      "/wiki/Wrapper_(data_mining)\n",
      "#cite_note-3\n",
      "/wiki/Semi-structured_data\n",
      "/wiki/XQuery\n",
      "/w/index.php?title=Web_scraping&action=edit&section=6\n",
      "/wiki/Document_Object_Model\n",
      "/wiki/Internet_Explorer\n",
      "/wiki/Mozilla\n",
      "/w/index.php?title=Web_scraping&action=edit&section=7\n",
      "/wiki/Long_Tail\n",
      "/w/index.php?title=Web_scraping&action=edit&section=8\n",
      "/wiki/Metadata\n",
      "/wiki/Microformat\n",
      "#cite_note-4\n",
      "/w/index.php?title=Web_scraping&action=edit&section=9\n",
      "/wiki/Machine_learning\n",
      "/wiki/Computer_vision\n",
      "#cite_note-5\n",
      "/w/index.php?title=Web_scraping&action=edit&section=10\n",
      "/w/index.php?title=Web_scraping&action=edit&section=11\n",
      "/wiki/CURL\n",
      "/wiki/Data_Toolbar\n",
      "/wiki/Diffbot\n",
      "/wiki/Heritrix\n",
      "/wiki/Wayback_Machine\n",
      "/wiki/HtmlUnit\n",
      "/wiki/HTTrack\n",
      "/wiki/IMacros\n",
      "/wiki/Selenium_(software)\n",
      "/wiki/Aptana#Aptana_Jaxer\n",
      "/wiki/Nokogiri_(software)\n",
      "/wiki/OutWit_Hub\n",
      "/wiki/Watir\n",
      "/wiki/Wget\n",
      "/wiki/WSO2_Mashup_Server\n",
      "/wiki/Yahoo!_Query_Language\n",
      "https://www.agenty.com/data-extraction-software.aspx\n",
      "/w/index.php?title=Web_scraping&action=edit&section=12\n",
      "/wiki/Greasemonkey\n",
      "/wiki/Node.js\n",
      "/wiki/PhantomJS\n",
      "/wiki/Headless_browser\n",
      "/wiki/JQuery\n",
      "/w/index.php?title=Web_scraping&action=edit&section=13\n",
      "https://www.agenty.com\n",
      "https://www.apify.com\n",
      "https://dexi.io\n",
      "/w/index.php?title=FScraper&action=edit&redlink=1\n",
      "/wiki/Import.io\n",
      "http://www.listly.io\n",
      "/w/index.php?title=UScraper&action=edit&redlink=1\n",
      "/w/index.php?title=Web_scraping&action=edit&section=14\n",
      "/wiki/Scrapy\n",
      "/w/index.php?title=Web_scraping&action=edit&section=15\n",
      "/wiki/Wikipedia:WikiProject_Countering_systemic_bias\n",
      "//en.wikipedia.org/w/index.php?title=Web_scraping&action=edit\n",
      "/wiki/Talk:Web_scraping\n",
      "/wiki/Wikipedia:Article_wizard\n",
      "/wiki/Help:Maintenance_template_removal\n",
      "/wiki/Terms_of_use\n",
      "#cite_note-6\n",
      "/w/index.php?title=Web_scraping&action=edit&section=16\n",
      "/wiki/Cause_of_action\n",
      "/wiki/Computer_Fraud_and_Abuse_Act\n",
      "/wiki/Trespass_to_chattels\n",
      "#cite_note-7\n",
      "/wiki/Feist_Publications,_Inc.,_v._Rural_Telephone_Service_Co.\n",
      "/wiki/Trespass_to_chattels\n",
      "#cite_note-8\n",
      "#cite_note-9\n",
      "/wiki/EBay_v._Bidder%27s_Edge\n",
      "/wiki/Auction_sniping\n",
      "/wiki/Personal_property\n",
      "/wiki/Plaintiff\n",
      "/wiki/Defendant\n",
      "#cite_note-10\n",
      "/wiki/Screen_scraping\n",
      "/wiki/American_Airlines\n",
      "#cite_note-11\n",
      "/wiki/Injunction\n",
      "#cite_note-12\n",
      "/wiki/Southwest_Airlines\n",
      "/wiki/US_Copyright_law\n",
      "/wiki/Supreme_Court_of_the_United_States\n",
      "/wiki/Yahoo!\n",
      "#cite_note-impervawp2011-13\n",
      "/wiki/Craigslist_v._3Taps\n",
      "/wiki/Computer_Fraud_and_Abuse_Act\n",
      "#cite_note-14\n",
      "/wiki/Cvent,_Inc.\n",
      "/wiki/Eventbrite\n",
      "/wiki/Browse_wrap\n",
      "#cite_note-15\n",
      "/wiki/United_States_District_Court_for_the_Eastern_District_of_Pennsylvania\n",
      "#cite_note-16\n",
      "/wiki/QVC\n",
      "#cite_note-17\n",
      "#cite_note-18\n",
      "/wiki/Facebook,_Inc._v._Power_Ventures,_Inc.\n",
      "/wiki/Electronic_Frontier_Foundation\n",
      "#cite_note-19\n",
      "#cite_note-20\n",
      "/wiki/Associated_Press_v._Meltwater_U.S._Holdings,_Inc.\n",
      "/w/index.php?title=Web_scraping&action=edit&section=17\n",
      "#cite_note-21\n",
      "/w/index.php?title=Inchoate&action=edit&redlink=1\n",
      "#cite_note-22\n",
      "#cite_note-23\n",
      "/wiki/Spam_Act_2003\n",
      "#cite_note-24\n",
      "#cite_note-25\n",
      "/w/index.php?title=Web_scraping&action=edit&section=18\n",
      "/wiki/IP_address\n",
      "/wiki/Geolocation\n",
      "/wiki/DNSBL\n",
      "/wiki/Web_service\n",
      "/wiki/Application_programming_interface\n",
      "/wiki/User_agent\n",
      "/wiki/String_(computer_science)\n",
      "/wiki/Robots_exclusion_standard\n",
      "/wiki/Googlebot\n",
      "/wiki/CAPTCHA\n",
      "/wiki/Application_firewall\n",
      "/wiki/Honeypot_(computing)\n",
      "/wiki/Obfuscation\n",
      "/wiki/CSS_sprite\n",
      "/wiki/Web_accessibility\n",
      "/wiki/Screen_reader\n",
      "/w/index.php?title=Web_scraping&action=edit&section=19\n",
      "/wiki/Archive.is\n",
      "/wiki/Comparison_of_feed_aggregators\n",
      "/wiki/Data_scraping\n",
      "/wiki/Data_wrangling\n",
      "/wiki/Importer_(computing)\n",
      "/wiki/Job_wrapping\n",
      "/wiki/Knowledge_extraction\n",
      "/wiki/OpenSocial\n",
      "/wiki/Scraper_site\n",
      "/wiki/Fake_news_website\n",
      "/wiki/Blog_scraping\n",
      "/wiki/Spamdexing\n",
      "/wiki/Domain_name_drop_list\n",
      "/wiki/Text_corpus\n",
      "/wiki/Web_archiving\n",
      "/wiki/Blog_network\n",
      "/wiki/Search_Engine_Scraping\n",
      "/wiki/Category:Web_crawlers\n",
      "/w/index.php?title=Web_scraping&action=edit&section=20\n",
      "#cite_ref-Boeing2016JPER_1-0\n",
      "#cite_ref-Boeing2016JPER_1-1\n",
      "/wiki/Digital_object_identifier\n",
      "//doi.org/10.1177%2F0739456X16664789\n",
      "#cite_ref-2\n",
      "/wiki/Digital_object_identifier\n",
      "//doi.org/10.5430%2Fair.v2n1p44\n",
      "#cite_ref-3\n",
      "https://pdfs.semanticscholar.org/4fb4/3c5a212df751e84c3b2f8d29fabfe56c3616.pdf\n",
      "#cite_ref-4\n",
      "http://www.gooseeker.com/en/node/knowledgebase/freeformat\n",
      "#cite_ref-5\n",
      "http://www.xconomy.com/san-francisco/2012/07/25/diffbot-is-using-computer-vision-to-reinvent-the-semantic-web/\n",
      "#cite_ref-6\n",
      "http://www.chillingeffects.org/linking/faq.cgi#QID596\n",
      "#cite_ref-7\n",
      "http://scholarship.law.berkeley.edu/btlj/vol29/iss4/16/\n",
      "/wiki/Digital_object_identifier\n",
      "//doi.org/10.15779%2FZ38B39B\n",
      "/wiki/International_Standard_Serial_Number\n",
      "//www.worldcat.org/issn/1086-3818\n",
      "#cite_ref-8\n",
      "http://www.tomwbell.com/NetLaw/Ch06.html\n",
      "#cite_ref-9\n",
      "http://www.chillingeffects.org/linking/faq.cgi#QID460\n",
      "#cite_ref-10\n",
      "http://www.tomwbell.com/NetLaw/Ch07/Ticketmaster.html\n",
      "#cite_ref-11\n",
      "http://www.fornova.net/documents/AAFareChase.pdf\n",
      "#cite_ref-12\n",
      "http://www.thefreelibrary.com/American+Airlines,+FareChase+Settle+Suit.-a0103213546\n",
      "#cite_ref-impervawp2011_13-0\n",
      "http://www.imperva.com/docs/WP_Detecting_and_Blocking_Site_Scraping_Attacks.pdf\n",
      "#cite_ref-14\n",
      "http://library.findlaw.com/2003/Jul/29/132944.html\n",
      "#cite_ref-15\n",
      "http://www.fornova.net/documents/Cvent.pdf\n",
      "#cite_ref-16\n",
      "https://www.scribd.com/doc/249068700/LinkedIn-v-Resultly-LLC-Complaint?secret_password=pEVKDbnvhQL52oKfdrmT\n",
      "#cite_ref-17\n",
      "http://newmedialaw.proskauer.com/2014/12/05/qvc-sues-shopping-app-for-web-scraping-that-allegedly-triggered-site-outage/\n",
      "#cite_ref-18\n",
      "http://www.fornova.net/documents/pblog-bna-com.pdf\n",
      "#cite_ref-19\n",
      "https://www.techdirt.com/articles/20090605/2228205147.shtml\n",
      "#cite_ref-20\n",
      "https://www.eff.org/cases/facebook-v-power-ventures\n",
      "#cite_ref-21\n",
      "http://www.bvhd.dk/uploads/tx_mocarticles/S_-_og_Handelsrettens_afg_relse_i_Ofir-sagen.pdf\n",
      "#cite_ref-22\n",
      "http://www.bailii.org/ie/cases/IEHC/2010/H47.html\n",
      "#cite_ref-23\n",
      "http://www.lkshields.ie/htmdocs/publications/newsletters/update26/update26_03.htm\n",
      "#cite_ref-24\n",
      "http://www.acma.gov.au/webwr/consumer_info/spam/spam_overview_for%20_business.pdf\n",
      "#cite_ref-25\n",
      "http://www.acma.gov.au/webwr/consumer_info/frequently_asked_questions/spam_business_practical_guide.pdf\n",
      "https://en.wikipedia.org/w/index.php?title=Web_scraping&oldid=811238479\n",
      "/wiki/Help:Category\n",
      "/wiki/Category:Web_scraping\n",
      "/wiki/Category:World_Wide_Web\n",
      "/wiki/Category:Spamming\n",
      "/wiki/Category:Articles_needing_additional_references_from_June_2017\n",
      "/wiki/Category:All_articles_needing_additional_references\n",
      "/wiki/Category:Articles_with_limited_geographic_scope_from_October_2015\n",
      "/wiki/Category:USA-centric\n",
      "/wiki/Special:MyTalk\n",
      "/wiki/Special:MyContributions\n",
      "/w/index.php?title=Special:CreateAccount&returnto=Web+scraping\n",
      "/w/index.php?title=Special:UserLogin&returnto=Web+scraping\n",
      "/wiki/Web_scraping\n",
      "/wiki/Talk:Web_scraping\n",
      "/wiki/Web_scraping\n",
      "/w/index.php?title=Web_scraping&action=edit\n",
      "/w/index.php?title=Web_scraping&action=history\n",
      "/wiki/Main_Page\n",
      "/wiki/Main_Page\n",
      "/wiki/Portal:Contents\n",
      "/wiki/Portal:Featured_content\n",
      "/wiki/Portal:Current_events\n",
      "/wiki/Special:Random\n",
      "https://donate.wikimedia.org/wiki/Special:FundraiserRedirector?utm_source=donate&utm_medium=sidebar&utm_campaign=C13_en.wikipedia.org&uselang=en\n",
      "//shop.wikimedia.org\n",
      "/wiki/Help:Contents\n",
      "/wiki/Wikipedia:About\n",
      "/wiki/Wikipedia:Community_portal\n",
      "/wiki/Special:RecentChanges\n",
      "//en.wikipedia.org/wiki/Wikipedia:Contact_us\n",
      "/wiki/Special:WhatLinksHere/Web_scraping\n",
      "/wiki/Special:RecentChangesLinked/Web_scraping\n",
      "/wiki/Wikipedia:File_Upload_Wizard\n",
      "/wiki/Special:SpecialPages\n",
      "/w/index.php?title=Web_scraping&oldid=811238479\n",
      "/w/index.php?title=Web_scraping&action=info\n",
      "https://www.wikidata.org/wiki/Special:EntityPage/Q665452\n",
      "/w/index.php?title=Special:CiteThisPage&page=Web_scraping&id=811238479\n",
      "/w/index.php?title=Special:Book&bookcmd=book_creator&referer=Web+scraping\n",
      "/w/index.php?title=Special:ElectronPdf&page=Web+scraping&action=show-download-screen\n",
      "/w/index.php?title=Web_scraping&printable=yes\n",
      "https://ar.wikipedia.org/wiki/%D8%AA%D9%82%D8%B4%D9%8A%D8%B1_%D8%A7%D9%84%D9%88%D9%8A%D8%A8\n",
      "https://ca.wikipedia.org/wiki/Web_scraping\n",
      "https://de.wikipedia.org/wiki/Screen_Scraping\n",
      "https://es.wikipedia.org/wiki/Web_scraping\n",
      "https://eu.wikipedia.org/wiki/Web_scraping\n",
      "https://fr.wikipedia.org/wiki/Web_scraping\n",
      "https://is.wikipedia.org/wiki/Vefs%C3%B6fnun\n",
      "https://it.wikipedia.org/wiki/Web_scraping\n",
      "https://lv.wikipedia.org/wiki/Rasmo%C5%A1ana\n",
      "https://nl.wikipedia.org/wiki/Scrapen\n",
      "https://ja.wikipedia.org/wiki/%E3%82%A6%E3%82%A7%E3%83%96%E3%82%B9%E3%82%AF%E3%83%AC%E3%82%A4%E3%83%94%E3%83%B3%E3%82%B0\n",
      "https://sr.wikipedia.org/wiki/Web_scraping\n",
      "https://tr.wikipedia.org/wiki/Web_kaz%C4%B1ma\n",
      "https://uk.wikipedia.org/wiki/Web_scraping\n",
      "https://www.wikidata.org/wiki/Special:EntityPage/Q665452#sitelinks-wikipedia\n",
      "//en.wikipedia.org/wiki/Wikipedia:Text_of_Creative_Commons_Attribution-ShareAlike_3.0_Unported_License\n",
      "//creativecommons.org/licenses/by-sa/3.0/\n",
      "//wikimediafoundation.org/wiki/Terms_of_Use\n",
      "//wikimediafoundation.org/wiki/Privacy_policy\n",
      "//www.wikimediafoundation.org/\n",
      "https://wikimediafoundation.org/wiki/Privacy_policy\n",
      "/wiki/Wikipedia:About\n",
      "/wiki/Wikipedia:General_disclaimer\n",
      "//en.wikipedia.org/wiki/Wikipedia:Contact_us\n",
      "https://www.mediawiki.org/wiki/Special:MyLanguage/How_to_contribute\n",
      "https://wikimediafoundation.org/wiki/Cookie_statement\n",
      "//en.m.wikipedia.org/w/index.php?title=Web_scraping&mobileaction=toggle_view_mobile\n",
      "https://wikimediafoundation.org/\n",
      "//www.mediawiki.org/\n"
     ]
    }
   ],
   "source": [
    "soup\n",
    "\n",
    "tags = soup('a')\n",
    "\n",
    "for tag in tags:\n",
    "   print(tag.get('href', None))"
   ]
  },
  {
   "cell_type": "markdown",
   "metadata": {},
   "source": [
    "# Objects"
   ]
  },
  {
   "cell_type": "code",
   "execution_count": 5,
   "metadata": {},
   "outputs": [
    {
     "name": "stdout",
     "output_type": "stream",
     "text": [
      "-----------\n",
      "[{'Director': 'James Cameron', 'Title': 'Avatar', 'Release Date': '18 December 2009', 'Running Time': '162 minutes', 'Rating': 'PG-13'}, {'Director': 'David Fincher', 'Title': 'The Social Network', 'Release Date': '01 October 2010', 'Running Time': '120 min', 'Rating': 'PG-13'}]\n",
      "-----------\n",
      "['Title', 'Director', 'Rating', 'Running Time']\n",
      "-----------\n",
      "Title :  Avatar\n",
      "Director :  James Cameron\n",
      "Rating :  PG-13\n",
      "Running Time :  162 minutes\n",
      "-----------\n",
      "Title :  The Social Network\n",
      "Director :  David Fincher\n",
      "Rating :  PG-13\n",
      "Running Time :  120 min\n",
      "-----------\n"
     ]
    }
   ],
   "source": [
    "movies = list()\n",
    "movie1 = dict()\n",
    "movie1['Director'] = 'James Cameron'\n",
    "movie1['Title'] = 'Avatar'\n",
    "movie1['Release Date'] = '18 December 2009'\n",
    "movie1['Running Time'] = '162 minutes'\n",
    "movie1['Rating'] = 'PG-13'\n",
    "movies.append(movie1)\n",
    "movie2 = dict()\n",
    "movie2['Director'] = 'David Fincher'\n",
    "movie2['Title'] = 'The Social Network'\n",
    "movie2['Release Date'] = '01 October 2010'\n",
    "movie2['Running Time'] = '120 min'\n",
    "movie2['Rating'] = 'PG-13'\n",
    "movies.append(movie2)\n",
    "keys = ['Title', 'Director', 'Rating', 'Running Time']\n",
    "\n",
    "print('-----------')\n",
    "print(movies)\n",
    "print('-----------')\n",
    "print(keys)\n",
    "\n",
    "for item in movies:\n",
    "    print('-----------')\n",
    "    for key in keys:\n",
    "        print(key,': ', item[key])\n",
    "print('-----------')\n"
   ]
  },
  {
   "cell_type": "code",
   "execution_count": null,
   "metadata": {
    "collapsed": true
   },
   "outputs": [],
   "source": [
    "movies"
   ]
  },
  {
   "cell_type": "code",
   "execution_count": 15,
   "metadata": {
    "collapsed": true
   },
   "outputs": [],
   "source": [
    "class PartyAnimal:\n",
    "    x = 8\n",
    "\n",
    "    def party(self) :\n",
    "      self.x = self.x + 1\n",
    "      print(\"So far\",self.x)\n"
   ]
  },
  {
   "cell_type": "code",
   "execution_count": 17,
   "metadata": {},
   "outputs": [
    {
     "name": "stdout",
     "output_type": "stream",
     "text": [
      "--AN----\n",
      "So far 9\n",
      "So far 10\n",
      "So far 11\n",
      "--SO----\n",
      "So far 9\n",
      "--AN----\n",
      "So far 12\n",
      "<class '__main__.PartyAnimal'>\n",
      "<class '__main__.PartyAnimal'>\n"
     ]
    }
   ],
   "source": [
    "an = PartyAnimal()\n",
    "print(\"--AN----\")\n",
    "an.party()\n",
    "an.party()\n",
    "an.party()\n",
    "\n",
    "print(\"--SO----\")\n",
    "so = PartyAnimal()\n",
    "so.party()\n",
    "\n",
    "print(\"--AN----\")\n",
    "an.party()\n",
    "print(type(an))\n",
    "print(type(so))"
   ]
  },
  {
   "cell_type": "code",
   "execution_count": 29,
   "metadata": {},
   "outputs": [
    {
     "name": "stdout",
     "output_type": "stream",
     "text": [
      "I am destructed 3\n",
      "Type <class '__main__.PartyAnimal'>\n",
      "Dir  ['__class__', '__delattr__', '__dict__', '__dir__', '__doc__', '__eq__', '__format__', '__ge__', '__getattribute__', '__gt__', '__hash__', '__init__', '__init_subclass__', '__le__', '__lt__', '__module__', '__ne__', '__new__', '__reduce__', '__reduce_ex__', '__repr__', '__setattr__', '__sizeof__', '__str__', '__subclasshook__', '__weakref__', 'party', 'x']\n"
     ]
    }
   ],
   "source": [
    "class PartyAnimal:\n",
    "   x = 0\n",
    "\n",
    "   def party(self) :\n",
    "     self.x = self.x + 1\n",
    "     print(\"So far\", self.x)\n",
    "\n",
    "an = PartyAnimal()\n",
    "\n",
    "print(\"Type\", type(an))\n",
    "print(\"Dir \", dir(an))\n"
   ]
  },
  {
   "cell_type": "code",
   "execution_count": 18,
   "metadata": {
    "collapsed": true
   },
   "outputs": [],
   "source": [
    "## Constructor\n",
    "\n",
    "class PartyAnimal:\n",
    "   x = 0\n",
    "\n",
    "   def __init__(self):\n",
    "    print(\"I am constructed\")\n",
    "    print(\"A party animal is born\")\n",
    "\n",
    "   def party(self) :\n",
    "     self.x = self.x + 1\n",
    "     print(\"So far\", self.x)\n",
    "\n",
    "   def __del__(self):\n",
    "     print(\"I am destructed\", self.x)\n"
   ]
  },
  {
   "cell_type": "code",
   "execution_count": 20,
   "metadata": {},
   "outputs": [
    {
     "name": "stdout",
     "output_type": "stream",
     "text": [
      "I am constructed\n",
      "A party animal is born\n",
      "I am destructed 0\n",
      "So far 1\n",
      "So far 2\n",
      "So far 3\n",
      "I am constructed\n",
      "A party animal is born\n"
     ]
    }
   ],
   "source": [
    "an = PartyAnimal()\n",
    "an.party()\n",
    "an.party()\n",
    "an.party()\n",
    "so = PartyAnimal()"
   ]
  },
  {
   "cell_type": "code",
   "execution_count": 22,
   "metadata": {},
   "outputs": [
    {
     "name": "stdout",
     "output_type": "stream",
     "text": [
      "Sally constructed\n",
      "Sally party count 1\n",
      "Jim constructed\n",
      "Jim party count 1\n",
      "Sally party count 2\n"
     ]
    }
   ],
   "source": [
    "## Many Instances\n",
    "\n",
    "class PartyAnimal:\n",
    "   x = 0\n",
    "   name = \"\"\n",
    "   def __init__(self, nam):\n",
    "     self.name = nam\n",
    "     print(self.name,\"constructed\")\n",
    "\n",
    "   def party(self) :\n",
    "     self.x = self.x + 1\n",
    "     print(self.name,\"party count\",self.x)\n",
    "\n",
    "s = PartyAnimal(\"Sally\")\n",
    "s.party()\n",
    "\n",
    "j = PartyAnimal(\"Jim\")\n",
    "j.party()\n",
    "s.party()\n"
   ]
  },
  {
   "cell_type": "code",
   "execution_count": 40,
   "metadata": {
    "collapsed": true,
    "slideshow": {
     "slide_type": "-"
    }
   },
   "outputs": [],
   "source": [
    "## Inheritance\n",
    "\n",
    "class PartyAnimal:\n",
    "   x = 0\n",
    "   name = \"\"\n",
    "   def __init__(self, nam):\n",
    "     self.name = nam\n",
    "     print(self.name,\"constructed\")\n",
    "\n",
    "   def party(self) :\n",
    "     self.x = self.x + 1\n",
    "     print(self.name,\"party count\",self.x)\n",
    "\n",
    "class FootballFan(PartyAnimal):\n",
    "   points = 0\n",
    "   def touchdown(self):\n",
    "      self.points = self.points + 7\n",
    "      self.party()\n",
    "      print(self.name,\"points\",self.points)\n"
   ]
  },
  {
   "cell_type": "code",
   "execution_count": 41,
   "metadata": {
    "scrolled": true
   },
   "outputs": [
    {
     "name": "stdout",
     "output_type": "stream",
     "text": [
      "Sally constructed\n",
      "Sally party count 1\n",
      "Jim constructed\n",
      "Jim party count 1\n",
      "Jim party count 2\n",
      "Jim points 7\n"
     ]
    }
   ],
   "source": [
    "s = PartyAnimal(\"Sally\")\n",
    "s.party()\n",
    "\n",
    "\n",
    "j = FootballFan(\"Jim\")\n",
    "j.party()\n",
    "j.touchdown()\n",
    "\n",
    "# for x in [s, j]:\n",
    "#     print(x.party())"
   ]
  },
  {
   "cell_type": "markdown",
   "metadata": {},
   "source": [
    "# Modules"
   ]
  },
  {
   "cell_type": "code",
   "execution_count": 42,
   "metadata": {},
   "outputs": [
    {
     "name": "stdout",
     "output_type": "stream",
     "text": [
      "['README', '.ipynb_checkpoints', 'simpleexp.py', 'mbox.txt', 'mbox-short.txt', 'Numpy.ipynb', 'mylib.py', '__pycache__', 'hello.py', 'Lambda Operator.ipynb', 'Python - Numpy.ipynb', 'dataset', 'Python - Part I.ipynb', 'Python - Part II.ipynb', 'Python - Pandas.ipynb']\n",
      "0.6912307498703394\n"
     ]
    },
    {
     "data": {
      "text/plain": [
       "['MAXYEAR',\n",
       " 'MINYEAR',\n",
       " '__builtins__',\n",
       " '__cached__',\n",
       " '__doc__',\n",
       " '__file__',\n",
       " '__loader__',\n",
       " '__name__',\n",
       " '__package__',\n",
       " '__spec__',\n",
       " 'date',\n",
       " 'datetime',\n",
       " 'datetime_CAPI',\n",
       " 'time',\n",
       " 'timedelta',\n",
       " 'timezone',\n",
       " 'tzinfo']"
      ]
     },
     "execution_count": 42,
     "metadata": {},
     "output_type": "execute_result"
    }
   ],
   "source": [
    "import random   # For generating random numbers.\n",
    "import os       # For interacting with the filesystem of your computer.\n",
    "import re       # For regular expressions. Unrelated: https://xkcd.com/1171/\n",
    "import datetime # Helps immensely with determining the date and formatting it.\n",
    "import math     # Gives some basic math functions: trig, factorial, exponential, logarithms, etc.\n",
    "import xml      # Abandon all hope, ye who enter.\n",
    "print(os.listdir())\n",
    "print(random.random())\n",
    "dir(datetime)"
   ]
  },
  {
   "cell_type": "code",
   "execution_count": 43,
   "metadata": {
    "collapsed": true
   },
   "outputs": [],
   "source": [
    "# As your program gets longer, you may want to split it into several files for easier maintenance\n",
    "# Use a handy function that you’ve written in several programs\n",
    "# without copying its definition into each program.\n",
    "\n",
    "# put definitions in a file and use them => module\n",
    "\n",
    "# Create a file mylib.py having the following definitions\n",
    "\n",
    "def interest(p, r, t):\n",
    "    return (p*r*t)/100\n",
    "\n",
    "def compoundinterest(p, r, t):\n",
    "    c = p;\n",
    "    for i in range(0, t):\n",
    "        c = c + c*r/100\n",
    "    return c - p"
   ]
  },
  {
   "cell_type": "code",
   "execution_count": 44,
   "metadata": {},
   "outputs": [
    {
     "data": {
      "text/plain": [
       "10.25"
      ]
     },
     "execution_count": 44,
     "metadata": {},
     "output_type": "execute_result"
    }
   ],
   "source": [
    "compoundinterest(100, 5, 2)"
   ]
  },
  {
   "cell_type": "code",
   "execution_count": 55,
   "metadata": {
    "collapsed": true
   },
   "outputs": [],
   "source": [
    "# Import the same library - file is module name\n",
    "import my_lib"
   ]
  },
  {
   "cell_type": "code",
   "execution_count": 58,
   "metadata": {},
   "outputs": [
    {
     "name": "stdout",
     "output_type": "stream",
     "text": [
      "\r\n",
      "def interest(p, r, t):\r\n",
      "    return (p*r*t)/100\r\n",
      "\r\n",
      "def compoundinterest(p, r, t):\r\n",
      "    c = p;\r\n",
      "    for i in range(0, t):\r\n",
      "        c = c + c*r/100\r\n",
      "    return c - p\r\n",
      "    "
     ]
    }
   ],
   "source": [
    "# Check function\n",
    "my_lib.compoundinterest(100, 5, 2)\n"
   ]
  },
  {
   "cell_type": "code",
   "execution_count": 59,
   "metadata": {
    "collapsed": true,
    "scrolled": true
   },
   "outputs": [],
   "source": [
    "from my_lib import interest, compoundinterest\n",
    "from my_lib import *\n"
   ]
  },
  {
   "cell_type": "code",
   "execution_count": 88,
   "metadata": {},
   "outputs": [
    {
     "name": "stdout",
     "output_type": "stream",
     "text": [
      "169 ns ± 0.155 ns per loop (mean ± std. dev. of 7 runs, 10000000 loops each)\n"
     ]
    }
   ],
   "source": [
    "%timeit interest(2,3,3)"
   ]
  },
  {
   "cell_type": "code",
   "execution_count": 76,
   "metadata": {},
   "outputs": [
    {
     "name": "stdout",
     "output_type": "stream",
     "text": [
      "Inside mylib\n",
      "Inside the main methd....\n"
     ]
    }
   ],
   "source": [
    "%run myglib.py"
   ]
  },
  {
   "cell_type": "code",
   "execution_count": 77,
   "metadata": {
    "collapsed": true
   },
   "outputs": [],
   "source": [
    "import myglib"
   ]
  },
  {
   "cell_type": "code",
   "execution_count": 64,
   "metadata": {},
   "outputs": [
    {
     "data": {
      "text/plain": [
       "'my_lib'"
      ]
     },
     "execution_count": 64,
     "metadata": {},
     "output_type": "execute_result"
    }
   ],
   "source": [
    "import my_lib_\n",
    "my_lib.__name__"
   ]
  },
  {
   "cell_type": "code",
   "execution_count": null,
   "metadata": {
    "collapsed": true
   },
   "outputs": [],
   "source": [
    "%run mylib"
   ]
  },
  {
   "cell_type": "code",
   "execution_count": null,
   "metadata": {
    "collapsed": true
   },
   "outputs": [],
   "source": [
    "!python mylib.py"
   ]
  },
  {
   "cell_type": "code",
   "execution_count": 79,
   "metadata": {
    "collapsed": true
   },
   "outputs": [],
   "source": [
    "import sys"
   ]
  },
  {
   "cell_type": "code",
   "execution_count": 80,
   "metadata": {},
   "outputs": [
    {
     "data": {
      "text/plain": [
       "['',\n",
       " '/usr/local/anaconda/envs/py36/lib/python36.zip',\n",
       " '/usr/local/anaconda/envs/py36/lib/python3.6',\n",
       " '/usr/local/anaconda/envs/py36/lib/python3.6/lib-dynload',\n",
       " '/usr/local/anaconda/envs/py36/lib/python3.6/site-packages',\n",
       " '/usr/local/anaconda/envs/py36/lib/python3.6/site-packages/Mako-1.0.7-py3.6.egg',\n",
       " '/usr/local/anaconda/envs/py36/lib/python3.6/site-packages/IPython/extensions',\n",
       " '/home/sandeepgiri9034/.ipython']"
      ]
     },
     "execution_count": 80,
     "metadata": {},
     "output_type": "execute_result"
    }
   ],
   "source": [
    "sys.path"
   ]
  },
  {
   "cell_type": "code",
   "execution_count": 83,
   "metadata": {
    "collapsed": true
   },
   "outputs": [],
   "source": [
    "sys.path += [\"/home/sandeepgiri9034/tmp\"]"
   ]
  },
  {
   "cell_type": "code",
   "execution_count": 84,
   "metadata": {},
   "outputs": [
    {
     "data": {
      "text/plain": [
       "['',\n",
       " '/usr/local/anaconda/envs/py36/lib/python36.zip',\n",
       " '/usr/local/anaconda/envs/py36/lib/python3.6',\n",
       " '/usr/local/anaconda/envs/py36/lib/python3.6/lib-dynload',\n",
       " '/usr/local/anaconda/envs/py36/lib/python3.6/site-packages',\n",
       " '/usr/local/anaconda/envs/py36/lib/python3.6/site-packages/Mako-1.0.7-py3.6.egg',\n",
       " '/usr/local/anaconda/envs/py36/lib/python3.6/site-packages/IPython/extensions',\n",
       " '/home/sandeepgiri9034/.ipython',\n",
       " '/home/sandeepgiri9034/tmp',\n",
       " '/home/sandeepgiri9034/tmp']"
      ]
     },
     "execution_count": 84,
     "metadata": {},
     "output_type": "execute_result"
    }
   ],
   "source": [
    "sys.path"
   ]
  },
  {
   "cell_type": "code",
   "execution_count": null,
   "metadata": {
    "collapsed": true
   },
   "outputs": [],
   "source": [
    "# Create testmod.py with the following code in tmp\n",
    "def mymethod():\n",
    "    print(\"Wow! You found it!\")\n"
   ]
  },
  {
   "cell_type": "code",
   "execution_count": 85,
   "metadata": {},
   "outputs": [
    {
     "name": "stdout",
     "output_type": "stream",
     "text": [
      "Wow! You found it!\n"
     ]
    }
   ],
   "source": [
    "import testmod\n",
    "testmod.mymethod()"
   ]
  },
  {
   "cell_type": "markdown",
   "metadata": {},
   "source": [
    "# Packages"
   ]
  },
  {
   "cell_type": "markdown",
   "metadata": {},
   "source": [
    "Packages are a way of structuring Python’s module namespace\n",
    "For example, the module name A.B designates a submodule named B in a package named A.\n",
    "Say you have huge project\n",
    "\n",
    "sound/                          Top-level package\n",
    "      __init__.py               Initialize the sound package\n",
    "      formats/                  Subpackage for file format conversions\n",
    "              __init__.py\n",
    "              wavread.py\n",
    "              wavwrite.py\n",
    "              aiffread.py\n",
    "              aiffwrite.py\n",
    "              auread.py\n",
    "              auwrite.py\n",
    "              ...\n",
    "      effects/                  Subpackage for sound effects\n",
    "              __init__.py\n",
    "              echo.py\n",
    "              surround.py\n",
    "              reverse.py\n",
    "              ...\n",
    "      filters/                  Subpackage for filters\n",
    "              __init__.py\n",
    "              equalizer.py\n",
    "              vocoder.py\n",
    "              karaoke.py\n",
    "              ...\n",
    "                "
   ]
  },
  {
   "cell_type": "code",
   "execution_count": null,
   "metadata": {
    "collapsed": true
   },
   "outputs": [],
   "source": [
    "# Users of the package can import individual modules from the package, for example:\n",
    "\n",
    "import sound.effects.echo\n",
    "# This loads the submodule sound.effects.echo. \n",
    "\n",
    "# It must be referenced with its full name.\n",
    "sound.effects.echo.echofilter(input, output, delay=0.7, atten=4)\n",
    "\n",
    "\n",
    "# An alternative way of importing the submodule is:\n",
    "\n",
    "from sound.effects import echo\n",
    "\n",
    "# This also loads the submodule echo, and makes it available without its package prefix, so it can be used as follows:\n",
    "echo.echofilter(input, output, delay=0.7, atten=4)\n",
    "\n",
    "# Yet another variation is to import the desired function or variable directly:\n",
    "from sound.effects.echo import echofilter\n",
    "# Again, this loads the submodule echo, but this makes its function echofilter() directly available:\n",
    "\n",
    "echofilter(input, output, delay=0.7, atten=4)\n"
   ]
  },
  {
   "cell_type": "code",
   "execution_count": 89,
   "metadata": {
    "collapsed": true
   },
   "outputs": [],
   "source": [
    "def multiply_loops(A, B):\n",
    "    C = np.zeros((A.shape[0], B.shape[1]))\n",
    "    for i in range(A.shape[1]):\n",
    "        for j in range(B.shape[0]):\n",
    "            C[i, j] = A[i, j] * B[j, i]\n",
    "    return C"
   ]
  },
  {
   "cell_type": "code",
   "execution_count": 90,
   "metadata": {
    "collapsed": true
   },
   "outputs": [],
   "source": [
    "# And now a function that uses NumPy's matrix-matrix multiplication operator.\n",
    "def multiply_vector(A, B):\n",
    "    return A @ B"
   ]
  },
  {
   "cell_type": "code",
   "execution_count": 91,
   "metadata": {
    "collapsed": true
   },
   "outputs": [],
   "source": [
    "import numpy as np\n",
    "# Here's our sample data: two randomly-generated, 100x100 matrices.\n",
    "X = np.random.random((1000, 1000))\n",
    "Y = np.random.random((1000, 1000))\n"
   ]
  },
  {
   "cell_type": "code",
   "execution_count": 95,
   "metadata": {},
   "outputs": [
    {
     "name": "stdout",
     "output_type": "stream",
     "text": [
      "468 ms ± 1.49 ms per loop (mean ± std. dev. of 7 runs, 1 loop each)\n"
     ]
    }
   ],
   "source": [
    "%timeit multiply_loops(X, Y)"
   ]
  },
  {
   "cell_type": "code",
   "execution_count": 94,
   "metadata": {},
   "outputs": [
    {
     "name": "stdout",
     "output_type": "stream",
     "text": [
      "32.7 ms ± 7.41 ms per loop (mean ± std. dev. of 7 runs, 10 loops each)\n"
     ]
    }
   ],
   "source": [
    "%timeit multiply_vector(X, Y)"
   ]
  },
  {
   "cell_type": "code",
   "execution_count": 45,
   "metadata": {
    "collapsed": true
   },
   "outputs": [],
   "source": [
    "from pylab import *"
   ]
  },
  {
   "cell_type": "code",
   "execution_count": 46,
   "metadata": {},
   "outputs": [
    {
     "data": {
      "text/plain": [
       "[<matplotlib.lines.Line2D at 0x7f241c3e7748>]"
      ]
     },
     "execution_count": 46,
     "metadata": {},
     "output_type": "execute_result"
    }
   ],
   "source": [
    "plot([1,2,3])"
   ]
  },
  {
   "cell_type": "code",
   "execution_count": 47,
   "metadata": {},
   "outputs": [
    {
     "data": {
      "text/plain": [
       "Text(0.5,0,'hi mom')"
      ]
     },
     "execution_count": 47,
     "metadata": {},
     "output_type": "execute_result"
    }
   ],
   "source": [
    "xlabel('hi mom')"
   ]
  },
  {
   "cell_type": "code",
   "execution_count": 102,
   "metadata": {
    "scrolled": true
   },
   "outputs": [
    {
     "data": {
      "image/png": "[encoded data removed]",
      "text/plain": [
       "<matplotlib.figure.Figure at 0x7f823df0ef98>"
      ]
     },
     "metadata": {},
     "output_type": "display_data"
    }
   ],
   "source": [
    "from matplotlib import pyplot as plt\n",
    "plt.plot([1,2,3,4], [4,3,2,1])\n",
    "plt.show()"
   ]
  },
  {
   "cell_type": "code",
   "execution_count": 48,
   "metadata": {
    "collapsed": true
   },
   "outputs": [],
   "source": [
    "%matplotlib inline\n",
    "\n",
    "from matplotlib import pyplot as plt\n",
    "import numpy as np"
   ]
  },
  {
   "cell_type": "code",
   "execution_count": 100,
   "metadata": {
    "scrolled": true
   },
   "outputs": [
    {
     "data": {
      "image/png": "[encoded data removed]",
      "text/plain": [
       "<matplotlib.figure.Figure at 0x7f823dfd61d0>"
      ]
     },
     "metadata": {},
     "output_type": "display_data"
    }
   ],
   "source": [
    "plt.scatter(*np.random.randn(2, 100), \n",
    "            s=np.pi * (15 * np.random.rand(100))**2 , \n",
    "            c=np.random.randn(100), alpha=0.5,\n",
    "            cmap='viridis')\n",
    "plt.xlabel('x')\n",
    "plt.ylabel('y')\n",
    "plt.show()"
   ]
  },
  {
   "cell_type": "code",
   "execution_count": 51,
   "metadata": {},
   "outputs": [
    {
     "data": {
      "text/plain": [
       "['Annotation',\n",
       " 'Arrow',\n",
       " 'Artist',\n",
       " 'AutoLocator',\n",
       " 'Axes',\n",
       " 'Button',\n",
       " 'Circle',\n",
       " 'Figure',\n",
       " 'FigureCanvasBase',\n",
       " 'FixedFormatter',\n",
       " 'FixedLocator',\n",
       " 'FormatStrFormatter',\n",
       " 'Formatter',\n",
       " 'FuncFormatter',\n",
       " 'GridSpec',\n",
       " 'IndexLocator',\n",
       " 'Line2D',\n",
       " 'LinearLocator',\n",
       " 'Locator',\n",
       " 'LogFormatter',\n",
       " 'LogFormatterExponent',\n",
       " 'LogFormatterMathtext',\n",
       " 'LogLocator',\n",
       " 'MaxNLocator',\n",
       " 'MultipleLocator',\n",
       " 'Normalize',\n",
       " 'NullFormatter',\n",
       " 'NullLocator',\n",
       " 'PolarAxes',\n",
       " 'Polygon',\n",
       " 'Rectangle',\n",
       " 'ScalarFormatter',\n",
       " 'Slider',\n",
       " 'Subplot',\n",
       " 'SubplotTool',\n",
       " 'Text',\n",
       " 'TickHelper',\n",
       " 'Widget',\n",
       " '_INSTALL_FIG_OBSERVER',\n",
       " '_IP_REGISTERED',\n",
       " '__builtins__',\n",
       " '__cached__',\n",
       " '__doc__',\n",
       " '__file__',\n",
       " '__loader__',\n",
       " '__name__',\n",
       " '__package__',\n",
       " '__spec__',\n",
       " '_auto_draw_if_interactive',\n",
       " '_autogen_docstring',\n",
       " '_backend_mod',\n",
       " '_backend_selection',\n",
       " '_hold_msg',\n",
       " '_imread',\n",
       " '_imsave',\n",
       " '_interactive_bk',\n",
       " '_pylab_helpers',\n",
       " '_setp',\n",
       " '_setup_pyplot_info_docstrings',\n",
       " '_show',\n",
       " '_string_to_bool',\n",
       " 'absolute_import',\n",
       " 'acorr',\n",
       " 'angle_spectrum',\n",
       " 'annotate',\n",
       " 'arrow',\n",
       " 'autoscale',\n",
       " 'autumn',\n",
       " 'axes',\n",
       " 'axhline',\n",
       " 'axhspan',\n",
       " 'axis',\n",
       " 'axvline',\n",
       " 'axvspan',\n",
       " 'bar',\n",
       " 'barbs',\n",
       " 'barh',\n",
       " 'bone',\n",
       " 'box',\n",
       " 'boxplot',\n",
       " 'broken_barh',\n",
       " 'cla',\n",
       " 'clabel',\n",
       " 'clf',\n",
       " 'clim',\n",
       " 'close',\n",
       " 'cm',\n",
       " 'cohere',\n",
       " 'colorbar',\n",
       " 'colormaps',\n",
       " 'colors',\n",
       " 'connect',\n",
       " 'contour',\n",
       " 'contourf',\n",
       " 'cool',\n",
       " 'copper',\n",
       " 'csd',\n",
       " 'cycler',\n",
       " 'dedent',\n",
       " 'delaxes',\n",
       " 'deprecated',\n",
       " 'disconnect',\n",
       " 'division',\n",
       " 'docstring',\n",
       " 'draw',\n",
       " 'draw_all',\n",
       " 'draw_if_interactive',\n",
       " 'errorbar',\n",
       " 'eventplot',\n",
       " 'figaspect',\n",
       " 'figimage',\n",
       " 'figlegend',\n",
       " 'fignum_exists',\n",
       " 'figtext',\n",
       " 'figure',\n",
       " 'fill',\n",
       " 'fill_between',\n",
       " 'fill_betweenx',\n",
       " 'findobj',\n",
       " 'flag',\n",
       " 'gca',\n",
       " 'gcf',\n",
       " 'gci',\n",
       " 'get',\n",
       " 'get_backend',\n",
       " 'get_cmap',\n",
       " 'get_current_fig_manager',\n",
       " 'get_figlabels',\n",
       " 'get_fignums',\n",
       " 'get_plot_commands',\n",
       " 'get_scale_docs',\n",
       " 'get_scale_names',\n",
       " 'getp',\n",
       " 'ginput',\n",
       " 'gray',\n",
       " 'grid',\n",
       " 'hexbin',\n",
       " 'hist',\n",
       " 'hist2d',\n",
       " 'hlines',\n",
       " 'hold',\n",
       " 'hot',\n",
       " 'hsv',\n",
       " 'imread',\n",
       " 'imsave',\n",
       " 'imshow',\n",
       " 'inferno',\n",
       " 'install_repl_displayhook',\n",
       " 'interactive',\n",
       " 'ioff',\n",
       " 'ion',\n",
       " 'is_numlike',\n",
       " 'ishold',\n",
       " 'isinteractive',\n",
       " 'jet',\n",
       " 'legend',\n",
       " 'locator_params',\n",
       " 'loglog',\n",
       " 'magma',\n",
       " 'magnitude_spectrum',\n",
       " 'margins',\n",
       " 'matplotlib',\n",
       " 'matshow',\n",
       " 'minorticks_off',\n",
       " 'minorticks_on',\n",
       " 'mlab',\n",
       " 'new_figure_manager',\n",
       " 'nipy_spectral',\n",
       " 'np',\n",
       " 'over',\n",
       " 'pause',\n",
       " 'pcolor',\n",
       " 'pcolormesh',\n",
       " 'phase_spectrum',\n",
       " 'pie',\n",
       " 'pink',\n",
       " 'plasma',\n",
       " 'plot',\n",
       " 'plot_date',\n",
       " 'plotfile',\n",
       " 'plotting',\n",
       " 'polar',\n",
       " 'print_function',\n",
       " 'prism',\n",
       " 'psd',\n",
       " 'pylab_setup',\n",
       " 'quiver',\n",
       " 'quiverkey',\n",
       " 'rc',\n",
       " 'rcParams',\n",
       " 'rcParamsDefault',\n",
       " 'rc_context',\n",
       " 'rcdefaults',\n",
       " 'register_cmap',\n",
       " 'rgrids',\n",
       " 'savefig',\n",
       " 'sca',\n",
       " 'scatter',\n",
       " 'sci',\n",
       " 'semilogx',\n",
       " 'semilogy',\n",
       " 'set_cmap',\n",
       " 'setp',\n",
       " 'show',\n",
       " 'silent_list',\n",
       " 'six',\n",
       " 'specgram',\n",
       " 'spectral',\n",
       " 'spring',\n",
       " 'spy',\n",
       " 'stackplot',\n",
       " 'stem',\n",
       " 'step',\n",
       " 'streamplot',\n",
       " 'style',\n",
       " 'subplot',\n",
       " 'subplot2grid',\n",
       " 'subplot_tool',\n",
       " 'subplots',\n",
       " 'subplots_adjust',\n",
       " 'summer',\n",
       " 'suptitle',\n",
       " 'switch_backend',\n",
       " 'sys',\n",
       " 'table',\n",
       " 'text',\n",
       " 'thetagrids',\n",
       " 'tick_params',\n",
       " 'ticklabel_format',\n",
       " 'tight_layout',\n",
       " 'title',\n",
       " 'tricontour',\n",
       " 'tricontourf',\n",
       " 'tripcolor',\n",
       " 'triplot',\n",
       " 'twinx',\n",
       " 'twiny',\n",
       " 'types',\n",
       " 'unicode_literals',\n",
       " 'uninstall_repl_displayhook',\n",
       " 'violinplot',\n",
       " 'viridis',\n",
       " 'vlines',\n",
       " 'waitforbuttonpress',\n",
       " 'warnings',\n",
       " 'winter',\n",
       " 'xcorr',\n",
       " 'xkcd',\n",
       " 'xlabel',\n",
       " 'xlim',\n",
       " 'xscale',\n",
       " 'xticks',\n",
       " 'ylabel',\n",
       " 'ylim',\n",
       " 'yscale',\n",
       " 'yticks']"
      ]
     },
     "execution_count": 51,
     "metadata": {},
     "output_type": "execute_result"
    }
   ],
   "source": [
    "dir(plt)"
   ]
  },
  {
   "cell_type": "code",
   "execution_count": 9,
   "metadata": {},
   "outputs": [
    {
     "name": "stdout",
     "output_type": "stream",
     "text": [
      "10*20 == 200\n",
      "10 * 20 == 200 -- 10\n",
      "10 * 20 == 200\n",
      "10 * 20 == 200 -- 10\n",
      "10 * 20 == 200\n"
     ]
    }
   ],
   "source": [
    "# TODO: String format, float formats\n",
    "# https://pyformat.info/\n",
    "  \n",
    "#'{} {}'.format('one', 'two')\n",
    "#print((\"hi %100.3f %2.2d\") % (122.30, 4))\n",
    "\n",
    "x = 10\n",
    "y = 20\n",
    "\n",
    "print( str(x) + \"*\" + str(y) + \" == \" + str(x*y))\n",
    "\n",
    "#New\n",
    "print(\"{0} * {1} == {2} -- {0}\".format(x , y, x*y))\n",
    "\n",
    "#OLD:\n",
    "print(\"%d * %d == %d\" % (x , y, x*y))\n",
    "\n",
    "\n",
    "#\n",
    "print(\"{0} * {1} == {2} -- {0}\".format(x , y, x*y))\n",
    "print(\"{} * {} == {}\".format(x , y, x*y))"
   ]
  },
  {
   "cell_type": "code",
   "execution_count": 27,
   "metadata": {},
   "outputs": [
    {
     "data": {
      "text/plain": [
       "3.14"
      ]
     },
     "execution_count": 27,
     "metadata": {},
     "output_type": "execute_result"
    }
   ],
   "source": [
    "'{:.4f}'.format(3.141592653589793)\n",
    "x = '{:010.2f}'.format(3.141592653589793)\n",
    "float(x)"
   ]
  },
  {
   "cell_type": "code",
   "execution_count": 17,
   "metadata": {
    "collapsed": true
   },
   "outputs": [],
   "source": [
    "import math"
   ]
  },
  {
   "cell_type": "code",
   "execution_count": 20,
   "metadata": {},
   "outputs": [
    {
     "data": {
      "text/plain": [
       "['__doc__',\n",
       " '__file__',\n",
       " '__loader__',\n",
       " '__name__',\n",
       " '__package__',\n",
       " '__spec__',\n",
       " 'acos',\n",
       " 'acosh',\n",
       " 'asin',\n",
       " 'asinh',\n",
       " 'atan',\n",
       " 'atan2',\n",
       " 'atanh',\n",
       " 'ceil',\n",
       " 'copysign',\n",
       " 'cos',\n",
       " 'cosh',\n",
       " 'degrees',\n",
       " 'e',\n",
       " 'erf',\n",
       " 'erfc',\n",
       " 'exp',\n",
       " 'expm1',\n",
       " 'fabs',\n",
       " 'factorial',\n",
       " 'floor',\n",
       " 'fmod',\n",
       " 'frexp',\n",
       " 'fsum',\n",
       " 'gamma',\n",
       " 'gcd',\n",
       " 'hypot',\n",
       " 'inf',\n",
       " 'isclose',\n",
       " 'isfinite',\n",
       " 'isinf',\n",
       " 'isnan',\n",
       " 'ldexp',\n",
       " 'lgamma',\n",
       " 'log',\n",
       " 'log10',\n",
       " 'log1p',\n",
       " 'log2',\n",
       " 'modf',\n",
       " 'nan',\n",
       " 'pi',\n",
       " 'pow',\n",
       " 'radians',\n",
       " 'sin',\n",
       " 'sinh',\n",
       " 'sqrt',\n",
       " 'tan',\n",
       " 'tanh',\n",
       " 'tau',\n",
       " 'trunc']"
      ]
     },
     "execution_count": 20,
     "metadata": {},
     "output_type": "execute_result"
    }
   ],
   "source": [
    "dir(math)"
   ]
  },
  {
   "cell_type": "code",
   "execution_count": 23,
   "metadata": {},
   "outputs": [
    {
     "data": {
      "text/plain": [
       "3.57"
      ]
     },
     "execution_count": 23,
     "metadata": {},
     "output_type": "execute_result"
    }
   ],
   "source": [
    "round(3.567, 2)"
   ]
  },
  {
   "cell_type": "code",
   "execution_count": null,
   "metadata": {
    "collapsed": true
   },
   "outputs": [],
   "source": []
  }
 ],
 "metadata": {
  "kernelspec": {
   "display_name": "Python 3",
   "language": "python",
   "name": "python3"
  },
  "language_info": {
   "codemirror_mode": {
    "name": "ipython",
    "version": 3
   },
   "file_extension": ".py",
   "mimetype": "text/x-python",
   "name": "python",
   "nbconvert_exporter": "python",
   "pygments_lexer": "ipython3",
   "version": "3.6.5"
  },
  "toc": {
   "base_numbering": 1,
   "nav_menu": {},
   "number_sections": true,
   "sideBar": true,
   "skip_h1_title": false,
   "title_cell": "Table of Contents",
   "title_sidebar": "Contents",
   "toc_cell": false,
   "toc_position": {},
   "toc_section_display": true,
   "toc_window_display": false
  }
 },
 "nbformat": 4,
 "nbformat_minor": 2
}
